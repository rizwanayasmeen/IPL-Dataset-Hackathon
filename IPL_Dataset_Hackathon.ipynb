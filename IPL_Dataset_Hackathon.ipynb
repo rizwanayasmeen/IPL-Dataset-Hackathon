{
 "cells": [
  {
   "cell_type": "code",
   "execution_count": 1,
   "id": "521df52d",
   "metadata": {},
   "outputs": [],
   "source": [
    "import numpy as np\n",
    "import pandas as pd\n",
    "import matplotlib.pyplot as plt\n",
    "import seaborn as sns\n",
    "from IPython import display"
   ]
  },
  {
   "cell_type": "code",
   "execution_count": 2,
   "id": "6879adab",
   "metadata": {},
   "outputs": [],
   "source": [
    "df1 = pd.read_csv('matches.csv')\n",
    "df2 = pd.read_csv('deliveries.csv')"
   ]
  },
  {
   "cell_type": "markdown",
   "id": "8576307b",
   "metadata": {},
   "source": [
    "### 1. Which of the following is the right way to merge 2 datasets for getting better insights from the data"
   ]
  },
  {
   "cell_type": "code",
   "execution_count": 3,
   "id": "a5e51d94",
   "metadata": {},
   "outputs": [],
   "source": [
    "data_df = pd.merge(df1, df2, left_on='id', right_on='match_id', how='inner')"
   ]
  },
  {
   "cell_type": "code",
   "execution_count": 4,
   "id": "caa0d539",
   "metadata": {},
   "outputs": [
    {
     "data": {
      "text/html": [
       "<div>\n",
       "<style scoped>\n",
       "    .dataframe tbody tr th:only-of-type {\n",
       "        vertical-align: middle;\n",
       "    }\n",
       "\n",
       "    .dataframe tbody tr th {\n",
       "        vertical-align: top;\n",
       "    }\n",
       "\n",
       "    .dataframe thead th {\n",
       "        text-align: right;\n",
       "    }\n",
       "</style>\n",
       "<table border=\"1\" class=\"dataframe\">\n",
       "  <thead>\n",
       "    <tr style=\"text-align: right;\">\n",
       "      <th></th>\n",
       "      <th>id</th>\n",
       "      <th>season</th>\n",
       "      <th>city</th>\n",
       "      <th>date</th>\n",
       "      <th>team1</th>\n",
       "      <th>team2</th>\n",
       "      <th>toss_winner</th>\n",
       "      <th>toss_decision</th>\n",
       "      <th>result</th>\n",
       "      <th>dl_applied</th>\n",
       "      <th>...</th>\n",
       "      <th>bye_runs</th>\n",
       "      <th>legbye_runs</th>\n",
       "      <th>noball_runs</th>\n",
       "      <th>penalty_runs</th>\n",
       "      <th>batsman_runs</th>\n",
       "      <th>extra_runs</th>\n",
       "      <th>total_runs</th>\n",
       "      <th>player_dismissed</th>\n",
       "      <th>dismissal_kind</th>\n",
       "      <th>fielder</th>\n",
       "    </tr>\n",
       "  </thead>\n",
       "  <tbody>\n",
       "    <tr>\n",
       "      <th>0</th>\n",
       "      <td>1</td>\n",
       "      <td>2017</td>\n",
       "      <td>Hyderabad</td>\n",
       "      <td>2017-04-05</td>\n",
       "      <td>Sunrisers Hyderabad</td>\n",
       "      <td>Royal Challengers Bangalore</td>\n",
       "      <td>Royal Challengers Bangalore</td>\n",
       "      <td>field</td>\n",
       "      <td>normal</td>\n",
       "      <td>0</td>\n",
       "      <td>...</td>\n",
       "      <td>0</td>\n",
       "      <td>0</td>\n",
       "      <td>0</td>\n",
       "      <td>0</td>\n",
       "      <td>0</td>\n",
       "      <td>0</td>\n",
       "      <td>0</td>\n",
       "      <td>NaN</td>\n",
       "      <td>NaN</td>\n",
       "      <td>NaN</td>\n",
       "    </tr>\n",
       "    <tr>\n",
       "      <th>1</th>\n",
       "      <td>1</td>\n",
       "      <td>2017</td>\n",
       "      <td>Hyderabad</td>\n",
       "      <td>2017-04-05</td>\n",
       "      <td>Sunrisers Hyderabad</td>\n",
       "      <td>Royal Challengers Bangalore</td>\n",
       "      <td>Royal Challengers Bangalore</td>\n",
       "      <td>field</td>\n",
       "      <td>normal</td>\n",
       "      <td>0</td>\n",
       "      <td>...</td>\n",
       "      <td>0</td>\n",
       "      <td>0</td>\n",
       "      <td>0</td>\n",
       "      <td>0</td>\n",
       "      <td>0</td>\n",
       "      <td>0</td>\n",
       "      <td>0</td>\n",
       "      <td>NaN</td>\n",
       "      <td>NaN</td>\n",
       "      <td>NaN</td>\n",
       "    </tr>\n",
       "    <tr>\n",
       "      <th>2</th>\n",
       "      <td>1</td>\n",
       "      <td>2017</td>\n",
       "      <td>Hyderabad</td>\n",
       "      <td>2017-04-05</td>\n",
       "      <td>Sunrisers Hyderabad</td>\n",
       "      <td>Royal Challengers Bangalore</td>\n",
       "      <td>Royal Challengers Bangalore</td>\n",
       "      <td>field</td>\n",
       "      <td>normal</td>\n",
       "      <td>0</td>\n",
       "      <td>...</td>\n",
       "      <td>0</td>\n",
       "      <td>0</td>\n",
       "      <td>0</td>\n",
       "      <td>0</td>\n",
       "      <td>4</td>\n",
       "      <td>0</td>\n",
       "      <td>4</td>\n",
       "      <td>NaN</td>\n",
       "      <td>NaN</td>\n",
       "      <td>NaN</td>\n",
       "    </tr>\n",
       "    <tr>\n",
       "      <th>3</th>\n",
       "      <td>1</td>\n",
       "      <td>2017</td>\n",
       "      <td>Hyderabad</td>\n",
       "      <td>2017-04-05</td>\n",
       "      <td>Sunrisers Hyderabad</td>\n",
       "      <td>Royal Challengers Bangalore</td>\n",
       "      <td>Royal Challengers Bangalore</td>\n",
       "      <td>field</td>\n",
       "      <td>normal</td>\n",
       "      <td>0</td>\n",
       "      <td>...</td>\n",
       "      <td>0</td>\n",
       "      <td>0</td>\n",
       "      <td>0</td>\n",
       "      <td>0</td>\n",
       "      <td>0</td>\n",
       "      <td>0</td>\n",
       "      <td>0</td>\n",
       "      <td>NaN</td>\n",
       "      <td>NaN</td>\n",
       "      <td>NaN</td>\n",
       "    </tr>\n",
       "    <tr>\n",
       "      <th>4</th>\n",
       "      <td>1</td>\n",
       "      <td>2017</td>\n",
       "      <td>Hyderabad</td>\n",
       "      <td>2017-04-05</td>\n",
       "      <td>Sunrisers Hyderabad</td>\n",
       "      <td>Royal Challengers Bangalore</td>\n",
       "      <td>Royal Challengers Bangalore</td>\n",
       "      <td>field</td>\n",
       "      <td>normal</td>\n",
       "      <td>0</td>\n",
       "      <td>...</td>\n",
       "      <td>0</td>\n",
       "      <td>0</td>\n",
       "      <td>0</td>\n",
       "      <td>0</td>\n",
       "      <td>0</td>\n",
       "      <td>2</td>\n",
       "      <td>2</td>\n",
       "      <td>NaN</td>\n",
       "      <td>NaN</td>\n",
       "      <td>NaN</td>\n",
       "    </tr>\n",
       "    <tr>\n",
       "      <th>...</th>\n",
       "      <td>...</td>\n",
       "      <td>...</td>\n",
       "      <td>...</td>\n",
       "      <td>...</td>\n",
       "      <td>...</td>\n",
       "      <td>...</td>\n",
       "      <td>...</td>\n",
       "      <td>...</td>\n",
       "      <td>...</td>\n",
       "      <td>...</td>\n",
       "      <td>...</td>\n",
       "      <td>...</td>\n",
       "      <td>...</td>\n",
       "      <td>...</td>\n",
       "      <td>...</td>\n",
       "      <td>...</td>\n",
       "      <td>...</td>\n",
       "      <td>...</td>\n",
       "      <td>...</td>\n",
       "      <td>...</td>\n",
       "      <td>...</td>\n",
       "    </tr>\n",
       "    <tr>\n",
       "      <th>179073</th>\n",
       "      <td>11415</td>\n",
       "      <td>2019</td>\n",
       "      <td>Hyderabad</td>\n",
       "      <td>12/05/19</td>\n",
       "      <td>Mumbai Indians</td>\n",
       "      <td>Chennai Super Kings</td>\n",
       "      <td>Mumbai Indians</td>\n",
       "      <td>bat</td>\n",
       "      <td>normal</td>\n",
       "      <td>0</td>\n",
       "      <td>...</td>\n",
       "      <td>0</td>\n",
       "      <td>0</td>\n",
       "      <td>0</td>\n",
       "      <td>0</td>\n",
       "      <td>1</td>\n",
       "      <td>0</td>\n",
       "      <td>1</td>\n",
       "      <td>NaN</td>\n",
       "      <td>NaN</td>\n",
       "      <td>NaN</td>\n",
       "    </tr>\n",
       "    <tr>\n",
       "      <th>179074</th>\n",
       "      <td>11415</td>\n",
       "      <td>2019</td>\n",
       "      <td>Hyderabad</td>\n",
       "      <td>12/05/19</td>\n",
       "      <td>Mumbai Indians</td>\n",
       "      <td>Chennai Super Kings</td>\n",
       "      <td>Mumbai Indians</td>\n",
       "      <td>bat</td>\n",
       "      <td>normal</td>\n",
       "      <td>0</td>\n",
       "      <td>...</td>\n",
       "      <td>0</td>\n",
       "      <td>0</td>\n",
       "      <td>0</td>\n",
       "      <td>0</td>\n",
       "      <td>2</td>\n",
       "      <td>0</td>\n",
       "      <td>2</td>\n",
       "      <td>NaN</td>\n",
       "      <td>NaN</td>\n",
       "      <td>NaN</td>\n",
       "    </tr>\n",
       "    <tr>\n",
       "      <th>179075</th>\n",
       "      <td>11415</td>\n",
       "      <td>2019</td>\n",
       "      <td>Hyderabad</td>\n",
       "      <td>12/05/19</td>\n",
       "      <td>Mumbai Indians</td>\n",
       "      <td>Chennai Super Kings</td>\n",
       "      <td>Mumbai Indians</td>\n",
       "      <td>bat</td>\n",
       "      <td>normal</td>\n",
       "      <td>0</td>\n",
       "      <td>...</td>\n",
       "      <td>0</td>\n",
       "      <td>0</td>\n",
       "      <td>0</td>\n",
       "      <td>0</td>\n",
       "      <td>1</td>\n",
       "      <td>0</td>\n",
       "      <td>1</td>\n",
       "      <td>SR Watson</td>\n",
       "      <td>run out</td>\n",
       "      <td>KH Pandya</td>\n",
       "    </tr>\n",
       "    <tr>\n",
       "      <th>179076</th>\n",
       "      <td>11415</td>\n",
       "      <td>2019</td>\n",
       "      <td>Hyderabad</td>\n",
       "      <td>12/05/19</td>\n",
       "      <td>Mumbai Indians</td>\n",
       "      <td>Chennai Super Kings</td>\n",
       "      <td>Mumbai Indians</td>\n",
       "      <td>bat</td>\n",
       "      <td>normal</td>\n",
       "      <td>0</td>\n",
       "      <td>...</td>\n",
       "      <td>0</td>\n",
       "      <td>0</td>\n",
       "      <td>0</td>\n",
       "      <td>0</td>\n",
       "      <td>2</td>\n",
       "      <td>0</td>\n",
       "      <td>2</td>\n",
       "      <td>NaN</td>\n",
       "      <td>NaN</td>\n",
       "      <td>NaN</td>\n",
       "    </tr>\n",
       "    <tr>\n",
       "      <th>179077</th>\n",
       "      <td>11415</td>\n",
       "      <td>2019</td>\n",
       "      <td>Hyderabad</td>\n",
       "      <td>12/05/19</td>\n",
       "      <td>Mumbai Indians</td>\n",
       "      <td>Chennai Super Kings</td>\n",
       "      <td>Mumbai Indians</td>\n",
       "      <td>bat</td>\n",
       "      <td>normal</td>\n",
       "      <td>0</td>\n",
       "      <td>...</td>\n",
       "      <td>0</td>\n",
       "      <td>0</td>\n",
       "      <td>0</td>\n",
       "      <td>0</td>\n",
       "      <td>0</td>\n",
       "      <td>0</td>\n",
       "      <td>0</td>\n",
       "      <td>SN Thakur</td>\n",
       "      <td>lbw</td>\n",
       "      <td>NaN</td>\n",
       "    </tr>\n",
       "  </tbody>\n",
       "</table>\n",
       "<p>179078 rows × 39 columns</p>\n",
       "</div>"
      ],
      "text/plain": [
       "           id  season       city        date                team1  \\\n",
       "0           1    2017  Hyderabad  2017-04-05  Sunrisers Hyderabad   \n",
       "1           1    2017  Hyderabad  2017-04-05  Sunrisers Hyderabad   \n",
       "2           1    2017  Hyderabad  2017-04-05  Sunrisers Hyderabad   \n",
       "3           1    2017  Hyderabad  2017-04-05  Sunrisers Hyderabad   \n",
       "4           1    2017  Hyderabad  2017-04-05  Sunrisers Hyderabad   \n",
       "...       ...     ...        ...         ...                  ...   \n",
       "179073  11415    2019  Hyderabad    12/05/19       Mumbai Indians   \n",
       "179074  11415    2019  Hyderabad    12/05/19       Mumbai Indians   \n",
       "179075  11415    2019  Hyderabad    12/05/19       Mumbai Indians   \n",
       "179076  11415    2019  Hyderabad    12/05/19       Mumbai Indians   \n",
       "179077  11415    2019  Hyderabad    12/05/19       Mumbai Indians   \n",
       "\n",
       "                              team2                  toss_winner  \\\n",
       "0       Royal Challengers Bangalore  Royal Challengers Bangalore   \n",
       "1       Royal Challengers Bangalore  Royal Challengers Bangalore   \n",
       "2       Royal Challengers Bangalore  Royal Challengers Bangalore   \n",
       "3       Royal Challengers Bangalore  Royal Challengers Bangalore   \n",
       "4       Royal Challengers Bangalore  Royal Challengers Bangalore   \n",
       "...                             ...                          ...   \n",
       "179073          Chennai Super Kings               Mumbai Indians   \n",
       "179074          Chennai Super Kings               Mumbai Indians   \n",
       "179075          Chennai Super Kings               Mumbai Indians   \n",
       "179076          Chennai Super Kings               Mumbai Indians   \n",
       "179077          Chennai Super Kings               Mumbai Indians   \n",
       "\n",
       "       toss_decision  result  dl_applied  ... bye_runs  legbye_runs  \\\n",
       "0              field  normal           0  ...        0            0   \n",
       "1              field  normal           0  ...        0            0   \n",
       "2              field  normal           0  ...        0            0   \n",
       "3              field  normal           0  ...        0            0   \n",
       "4              field  normal           0  ...        0            0   \n",
       "...              ...     ...         ...  ...      ...          ...   \n",
       "179073           bat  normal           0  ...        0            0   \n",
       "179074           bat  normal           0  ...        0            0   \n",
       "179075           bat  normal           0  ...        0            0   \n",
       "179076           bat  normal           0  ...        0            0   \n",
       "179077           bat  normal           0  ...        0            0   \n",
       "\n",
       "        noball_runs penalty_runs batsman_runs extra_runs total_runs  \\\n",
       "0                 0            0            0          0          0   \n",
       "1                 0            0            0          0          0   \n",
       "2                 0            0            4          0          4   \n",
       "3                 0            0            0          0          0   \n",
       "4                 0            0            0          2          2   \n",
       "...             ...          ...          ...        ...        ...   \n",
       "179073            0            0            1          0          1   \n",
       "179074            0            0            2          0          2   \n",
       "179075            0            0            1          0          1   \n",
       "179076            0            0            2          0          2   \n",
       "179077            0            0            0          0          0   \n",
       "\n",
       "       player_dismissed  dismissal_kind    fielder  \n",
       "0                   NaN             NaN        NaN  \n",
       "1                   NaN             NaN        NaN  \n",
       "2                   NaN             NaN        NaN  \n",
       "3                   NaN             NaN        NaN  \n",
       "4                   NaN             NaN        NaN  \n",
       "...                 ...             ...        ...  \n",
       "179073              NaN             NaN        NaN  \n",
       "179074              NaN             NaN        NaN  \n",
       "179075        SR Watson         run out  KH Pandya  \n",
       "179076              NaN             NaN        NaN  \n",
       "179077        SN Thakur             lbw        NaN  \n",
       "\n",
       "[179078 rows x 39 columns]"
      ]
     },
     "execution_count": 4,
     "metadata": {},
     "output_type": "execute_result"
    }
   ],
   "source": [
    "data_df"
   ]
  },
  {
   "cell_type": "markdown",
   "id": "6ed2355f",
   "metadata": {},
   "source": [
    "### 2. The column which has the most missing values according to the data is:"
   ]
  },
  {
   "cell_type": "code",
   "execution_count": 5,
   "id": "db1c5453",
   "metadata": {},
   "outputs": [
    {
     "data": {
      "text/plain": [
       "'fielder'"
      ]
     },
     "execution_count": 5,
     "metadata": {},
     "output_type": "execute_result"
    }
   ],
   "source": [
    "missing_val = data_df.isnull().sum()\n",
    "column_name = missing_val.idxmax()\n",
    "column_name"
   ]
  },
  {
   "cell_type": "markdown",
   "id": "8307fe30",
   "metadata": {},
   "source": [
    "### 3. City which hosted most number of seasons according to the data is:"
   ]
  },
  {
   "cell_type": "code",
   "execution_count": 6,
   "id": "9a197fb7",
   "metadata": {},
   "outputs": [
    {
     "name": "stdout",
     "output_type": "stream",
     "text": [
      "The city that hosted the most number of seasons is: Delhi\n",
      "Number of seasons hosted in this city: 11\n"
     ]
    }
   ],
   "source": [
    "city_season_counts = data_df.groupby('city')['season'].nunique()\n",
    "\n",
    "city_with_most_seasons = city_season_counts.idxmax()\n",
    "most_seasons_count = city_season_counts.max()\n",
    "\n",
    "print(f\"The city that hosted the most number of seasons is: {city_with_most_seasons}\")\n",
    "print(f\"Number of seasons hosted in this city: {most_seasons_count}\")"
   ]
  },
  {
   "cell_type": "markdown",
   "id": "7737d477",
   "metadata": {},
   "source": [
    "### 4. Which year has the most number of matches played?"
   ]
  },
  {
   "cell_type": "code",
   "execution_count": 7,
   "id": "8005a8f1",
   "metadata": {},
   "outputs": [],
   "source": [
    "data_df1 = data_df.drop_duplicates(subset=['id', 'date', 'team1', 'team2', 'season', 'city'])"
   ]
  },
  {
   "cell_type": "code",
   "execution_count": 8,
   "id": "ac88ce7a",
   "metadata": {},
   "outputs": [
    {
     "name": "stdout",
     "output_type": "stream",
     "text": [
      "The year with the most number of matches played is: 2013\n",
      "Number of matches played in that year: 76\n"
     ]
    }
   ],
   "source": [
    "matches_per_year = data_df1.groupby('season')['id'].count()\n",
    "year_with_most_matches = matches_per_year.idxmax()\n",
    "most_matches_count = matches_per_year.max()\n",
    "print(f\"The year with the most number of matches played is: {year_with_most_matches}\")\n",
    "print(f\"Number of matches played in that year: {most_matches_count}\")"
   ]
  },
  {
   "cell_type": "markdown",
   "id": "69adcee4",
   "metadata": {},
   "source": [
    "### 5. Maximum wins by Mumbai Indians in 2011 are"
   ]
  },
  {
   "cell_type": "code",
   "execution_count": 9,
   "id": "5dfdb8f8",
   "metadata": {},
   "outputs": [
    {
     "name": "stdout",
     "output_type": "stream",
     "text": [
      "The maximum number of wins by Mumbai Indians in 2011 is: 10\n"
     ]
    },
    {
     "name": "stderr",
     "output_type": "stream",
     "text": [
      "C:\\Users\\yousu\\AppData\\Local\\Temp\\ipykernel_13244\\4060165043.py:2: UserWarning: Boolean Series key will be reindexed to match DataFrame index.\n",
      "  mumbai_indians_2011 = mumbai_indians[data_df['season'] == 2011]\n"
     ]
    }
   ],
   "source": [
    "mumbai_indians = data_df1[(data_df1['team1'] == 'Mumbai Indians') | (data_df1['team2'] == 'Mumbai Indians')]\n",
    "mumbai_indians_2011 = mumbai_indians[data_df['season'] == 2011]\n",
    "mumbai_wins_2011 = mumbai_indians_2011[mumbai_indians_2011['winner'] == 'Mumbai Indians']\n",
    "\n",
    "max_wins_2011 = mumbai_wins_2011['winner'].count()\n",
    "\n",
    "print(f\"The maximum number of wins by Mumbai Indians in 2011 is: {max_wins_2011}\")"
   ]
  },
  {
   "cell_type": "markdown",
   "id": "2b52b993",
   "metadata": {},
   "source": [
    "### 6. For 'toss_decision' feature what kind of plot is suitable?"
   ]
  },
  {
   "cell_type": "markdown",
   "id": "c1de8c6b",
   "metadata": {},
   "source": [
    "### Count plot, Bar Plot and Pie plot"
   ]
  },
  {
   "cell_type": "code",
   "execution_count": 10,
   "id": "07fd33ce",
   "metadata": {},
   "outputs": [
    {
     "data": {
      "image/png": "[encoded data removed]",
      "text/plain": [
       "<Figure size 800x600 with 1 Axes>"
      ]
     },
     "metadata": {},
     "output_type": "display_data"
    }
   ],
   "source": [
    "toss_decision_counts = data_df1['toss_decision'].value_counts()\n",
    "\n",
    "plt.figure(figsize=(8, 6))\n",
    "sns.countplot(x='toss_decision', data=data_df1, order=toss_decision_counts.index, palette='viridis')\n",
    "plt.title('Distribution of Toss Decisions')\n",
    "plt.xlabel('Toss Decision')\n",
    "plt.ylabel('Count')\n",
    "plt.show()"
   ]
  },
  {
   "cell_type": "code",
   "execution_count": 11,
   "id": "06d44110",
   "metadata": {},
   "outputs": [
    {
     "data": {
      "image/png": "[encoded data removed]",
      "text/plain": [
       "<Figure size 800x600 with 1 Axes>"
      ]
     },
     "metadata": {},
     "output_type": "display_data"
    }
   ],
   "source": [
    "plt.figure(figsize=(8, 6))\n",
    "toss_decision_counts.plot(kind='bar', color='skyblue')\n",
    "plt.title('Distribution of Toss Decisions')\n",
    "plt.xlabel('Toss Decision')\n",
    "plt.ylabel('Count')\n",
    "plt.show()"
   ]
  },
  {
   "cell_type": "markdown",
   "id": "d7c27692",
   "metadata": {},
   "source": [
    "### 7.  What is the percentage of getting bat and field in feature 'toss_descision'?"
   ]
  },
  {
   "cell_type": "code",
   "execution_count": 12,
   "id": "3120f16f",
   "metadata": {},
   "outputs": [
    {
     "name": "stdout",
     "output_type": "stream",
     "text": [
      "Percentage of 'bat': 38.76%\n",
      "Percentage of 'field': 61.24%\n"
     ]
    }
   ],
   "source": [
    "toss_decision = data_df1['toss_decision'].value_counts()\n",
    "\n",
    "percentage_bat = (toss_decision['bat'] / len(data_df1)) * 100\n",
    "percentage_field = (toss_decision['field'] / len(data_df1)) * 100\n",
    "\n",
    "print(f\"Percentage of 'bat': {percentage_bat:.2f}%\")\n",
    "print(f\"Percentage of 'field': {percentage_field:.2f}%\")"
   ]
  },
  {
   "cell_type": "code",
   "execution_count": 13,
   "id": "f0bc73e6",
   "metadata": {},
   "outputs": [
    {
     "data": {
      "image/png": "[encoded data removed]",
      "text/plain": [
       "<Figure size 800x800 with 1 Axes>"
      ]
     },
     "metadata": {},
     "output_type": "display_data"
    }
   ],
   "source": [
    "plt.figure(figsize=(8, 8))\n",
    "plt.pie(toss_decision, labels=toss_decision.index, autopct='%1.1f%%', colors=['lightblue', 'lightgreen'])\n",
    "plt.title('Distribution of Toss Decisions')\n",
    "plt.show()"
   ]
  },
  {
   "cell_type": "markdown",
   "id": "c7f13140",
   "metadata": {},
   "source": [
    "### 8.  Which statement holds true\n",
    "  \n",
    "- A) Teams winning tosses and electing field first have won more number of matches.\n",
    "- B) Teams winning tosses and electing bat first have won more number of matches.\n",
    "- C) Both A and B\n",
    "- D) None of the above\n",
    "\n",
    "#### D) None of the above"
   ]
  },
  {
   "cell_type": "markdown",
   "id": "ab82a9b5",
   "metadata": {},
   "source": [
    "### 9. In which years where taking batting second have won more number of matches?"
   ]
  },
  {
   "cell_type": "code",
   "execution_count": 14,
   "id": "5f661ea8",
   "metadata": {},
   "outputs": [
    {
     "name": "stdout",
     "output_type": "stream",
     "text": [
      "In the year season\n",
      "2018    50\n",
      "2016    49\n",
      "2019    49\n",
      "Name: winner, dtype: int64, teams batting second won the most matches.\n"
     ]
    }
   ],
   "source": [
    "batting_second_wins = data_df1[data_df1['toss_decision'] == 'field']\n",
    "\n",
    "batting_second_wins_by_year = batting_second_wins[batting_second_wins['winner'].notnull()]\n",
    "batting_second_wins_count_by_year = batting_second_wins_by_year.groupby('season')['winner'].count()\n",
    "\n",
    "years_with_most_wins = batting_second_wins_count_by_year.nlargest(3)\n",
    "print(f\"In the year {years_with_most_wins}, teams batting second won the most matches.\")"
   ]
  },
  {
   "cell_type": "markdown",
   "id": "50c4fa42",
   "metadata": {},
   "source": [
    "### 10. To plot the most consistent batsmen among top 10 run getters, what plotting technique we use?"
   ]
  },
  {
   "cell_type": "markdown",
   "id": "4a1384a0",
   "metadata": {},
   "source": [
    "#### Line Plot"
   ]
  },
  {
   "cell_type": "markdown",
   "id": "b474d267",
   "metadata": {},
   "source": [
    "### 11. In 2019 which batsman scored highest number of runs by hitting 6's and 4's?"
   ]
  },
  {
   "cell_type": "code",
   "execution_count": 15,
   "id": "4fc6a7cf",
   "metadata": {},
   "outputs": [
    {
     "name": "stdout",
     "output_type": "stream",
     "text": [
      "In 2019, the batsman who scored the highest number of runs by hitting 4's and 6's is AD Russell with 438 runs.\n"
     ]
    }
   ],
   "source": [
    "df_2019 = data_df[data_df['season'] == 2019]\n",
    "df_boundaries = df_2019[df_2019['batsman_runs'].isin([4, 6])]\n",
    "runs_by_batsman = df_boundaries.groupby('batsman')['batsman_runs'].sum()\n",
    "batsman_with_highest_runs = runs_by_batsman.idxmax()\n",
    "highest_runs_scored = runs_by_batsman.max()\n",
    "\n",
    "print(f\"In 2019, the batsman who scored the highest number of runs by hitting 4's and 6's is {batsman_with_highest_runs} with {highest_runs_scored} runs.\")"
   ]
  },
  {
   "cell_type": "markdown",
   "id": "7c1e1a30",
   "metadata": {},
   "source": [
    "### 12. Most number of wickets taken by a bowler is"
   ]
  },
  {
   "cell_type": "code",
   "execution_count": 16,
   "id": "c767444e",
   "metadata": {},
   "outputs": [
    {
     "name": "stdout",
     "output_type": "stream",
     "text": [
      "The bowler who took the most number of wickets is SL Malinga with 188 wickets.\n"
     ]
    }
   ],
   "source": [
    "wickets_by_bowler = data_df[data_df['dismissal_kind'].notnull()].groupby('bowler')['dismissal_kind'].count()\n",
    "\n",
    "bowler_with_most_wickets = wickets_by_bowler.idxmax()\n",
    "most_wickets_taken = wickets_by_bowler.max()\n",
    "\n",
    "print(f\"The bowler who took the most number of wickets is {bowler_with_most_wickets} with {most_wickets_taken} wickets.\")"
   ]
  },
  {
   "cell_type": "markdown",
   "id": "78c8b085",
   "metadata": {},
   "source": [
    "### 13. What is the strike rate of Kohli in 2016\n",
    "*HINT: strike rate = (Total Runs / Total Balls Faced) * 100"
   ]
  },
  {
   "cell_type": "code",
   "execution_count": 17,
   "id": "64d52f99",
   "metadata": {},
   "outputs": [
    {
     "name": "stdout",
     "output_type": "stream",
     "text": [
      "Virat Kohli's strike rate in 2016 was 43.34\n"
     ]
    }
   ],
   "source": [
    "kohli_2016 = data_df[(data_df['batsman'] == 'V Kohli') & (data_df['season'] == 2016)]\n",
    "total_runs = kohli_2016['batsman_runs'].sum()\n",
    "total_balls_faced = kohli_2016['ball'].sum() \n",
    "strike_rate = (total_runs / total_balls_faced) * 100\n",
    "print(f\"Virat Kohli's strike rate in 2016 was {strike_rate:.2f}\")"
   ]
  },
  {
   "cell_type": "markdown",
   "id": "5f80ec73",
   "metadata": {},
   "source": [
    "### 14.  Bowlers with maximum number of extras:"
   ]
  },
  {
   "cell_type": "code",
   "execution_count": 18,
   "id": "81df47fa",
   "metadata": {},
   "outputs": [
    {
     "name": "stdout",
     "output_type": "stream",
     "text": [
      "Bowlers with the maximum number of extras:\n",
      "bowler\n",
      "SL Malinga    293\n",
      "Name: extra_runs, dtype: int64\n"
     ]
    }
   ],
   "source": [
    "extras_by_bowler = data_df.groupby('bowler')['extra_runs'].sum()\n",
    "\n",
    "bowlers_with_max_extras = extras_by_bowler[extras_by_bowler == extras_by_bowler.max()]\n",
    "\n",
    "print(\"Bowlers with the maximum number of extras:\")\n",
    "print(bowlers_with_max_extras)"
   ]
  },
  {
   "cell_type": "markdown",
   "id": "b386058d",
   "metadata": {},
   "source": [
    "### 15. Which venue has hosted most number of IPL matches?"
   ]
  },
  {
   "cell_type": "code",
   "execution_count": 19,
   "id": "a9800814",
   "metadata": {},
   "outputs": [
    {
     "name": "stdout",
     "output_type": "stream",
     "text": [
      "The venue that has hosted the most number of IPL matches is Eden Gardens with 17991 matches.\n"
     ]
    }
   ],
   "source": [
    "matches_per_venue = data_df['venue'].value_counts()\n",
    "\n",
    "venue_with_most_matches = matches_per_venue.idxmax()\n",
    "most_matches_hosted = matches_per_venue.max()\n",
    "\n",
    "print(f\"The venue that has hosted the most number of IPL matches is {venue_with_most_matches} with {most_matches_hosted} matches.\")"
   ]
  },
  {
   "cell_type": "markdown",
   "id": "4e1558c7",
   "metadata": {},
   "source": [
    "### 16. In 2017 when sunrisers hyderabad clashed against Royal Challengers Bangalore which team player won player of the match?"
   ]
  },
  {
   "cell_type": "code",
   "execution_count": 20,
   "id": "51dd89e1",
   "metadata": {},
   "outputs": [
    {
     "name": "stdout",
     "output_type": "stream",
     "text": [
      "In 2017, when Sunrisers Hyderabad clashed against Royal Challengers Bangalore, the Player of the Match was Yuvraj Singh.\n"
     ]
    }
   ],
   "source": [
    "match_condition = (data_df['team1'].isin(['Sunrisers Hyderabad', 'Royal Challengers Bangalore'])) & \\\n",
    "                  (data_df['team2'].isin(['Sunrisers Hyderabad', 'Royal Challengers Bangalore'])) & \\\n",
    "                  (data_df['season'] == 2017)\n",
    "\n",
    "match_details = data_df[match_condition]\n",
    "player_of_the_match = match_details['player_of_match'].iloc[0]\n",
    "print(f\"In 2017, when Sunrisers Hyderabad clashed against Royal Challengers Bangalore, the Player of the Match was {player_of_the_match}.\")"
   ]
  },
  {
   "cell_type": "markdown",
   "id": "84da069b",
   "metadata": {},
   "source": [
    "### 17. Across seasons who are the top three batsman's with most number of run out?"
   ]
  },
  {
   "cell_type": "code",
   "execution_count": 21,
   "id": "448abd13",
   "metadata": {},
   "outputs": [
    {
     "name": "stdout",
     "output_type": "stream",
     "text": [
      "Top three batsmen with the most number of run-outs across seasons:\n",
      "batsman\n",
      "MS Dhoni      21\n",
      "RG Sharma     17\n",
      "KD Karthik    16\n",
      "Name: dismissal_kind, dtype: int64\n"
     ]
    }
   ],
   "source": [
    "run_outs = data_df[data_df['dismissal_kind'] == 'run out']\n",
    "\n",
    "run_out_counts = run_outs.groupby('batsman')['dismissal_kind'].count()\n",
    "\n",
    "top_three_run_out_batsmen = run_out_counts.nlargest(3)\n",
    "\n",
    "print(\"Top three batsmen with the most number of run-outs across seasons:\")\n",
    "print(top_three_run_out_batsmen)"
   ]
  },
  {
   "cell_type": "markdown",
   "id": "5c55a642",
   "metadata": {},
   "source": [
    "### 18. What are the total runs scored by V Kohli when the bowler was JJ Burmah?"
   ]
  },
  {
   "cell_type": "code",
   "execution_count": 22,
   "id": "bbf4ba27",
   "metadata": {},
   "outputs": [
    {
     "name": "stdout",
     "output_type": "stream",
     "text": [
      "Total runs scored by V Kohli when the bowler was JJ Bumrah: 112\n"
     ]
    }
   ],
   "source": [
    "kohli_vs_bumrah = data_df[(data_df['batsman'] == 'V Kohli') & (data_df['bowler'] == 'JJ Bumrah')]\n",
    "\n",
    "total_runs_by_kohli_vs_bumrah = kohli_vs_bumrah['batsman_runs'].sum()\n",
    "\n",
    "print(f\"Total runs scored by V Kohli when the bowler was JJ Bumrah: {total_runs_by_kohli_vs_bumrah}\")"
   ]
  },
  {
   "cell_type": "markdown",
   "id": "6b250aa1",
   "metadata": {},
   "source": [
    "### 19. Across all seasons which player was dismissed the maximum number of times via caught and bowled"
   ]
  },
  {
   "cell_type": "code",
   "execution_count": 23,
   "id": "bf3cb55c",
   "metadata": {},
   "outputs": [
    {
     "name": "stdout",
     "output_type": "stream",
     "text": [
      "Across all seasons, the player dismissed the maximum number of times via 'caught and bowled' is SK Raina with 7 dismissals.\n"
     ]
    }
   ],
   "source": [
    "caught_and_bowled_dismissals = data_df[data_df['dismissal_kind'] == 'caught and bowled']\n",
    "\n",
    "caught_and_bowled_counts = caught_and_bowled_dismissals.groupby('batsman')['dismissal_kind'].count()\n",
    "\n",
    "player_max_caught_and_bowled = caught_and_bowled_counts.idxmax()\n",
    "max_caught_and_bowled_count = caught_and_bowled_counts.max()\n",
    "\n",
    "print(f\"Across all seasons, the player dismissed the maximum number of times via 'caught and bowled' is {player_max_caught_and_bowled} with {max_caught_and_bowled_count} dismissals.\")"
   ]
  },
  {
   "cell_type": "markdown",
   "id": "e1474605",
   "metadata": {},
   "source": [
    "### 20. which player has the highest hard-hitting ability?"
   ]
  },
  {
   "cell_type": "code",
   "execution_count": 24,
   "id": "dd65645f",
   "metadata": {},
   "outputs": [
    {
     "name": "stdout",
     "output_type": "stream",
     "text": [
      "The player with the highest hard-hitting ability (highest strike rate) is ('V Kohli', 2597) with a strike rate of 543400.00.\n"
     ]
    }
   ],
   "source": [
    "strike_rate_per_player = data_df.groupby('batsman').apply(lambda x: (x['batsman_runs'].sum() / x['ball']) * 100)\n",
    "\n",
    "player_highest_strike_rate = strike_rate_per_player.idxmax()\n",
    "highest_strike_rate = strike_rate_per_player.max()\n",
    "\n",
    "print(f\"The player with the highest hard-hitting ability (highest strike rate) is {player_highest_strike_rate} with a strike rate of {highest_strike_rate:.2f}.\")"
   ]
  },
  {
   "cell_type": "code",
   "execution_count": null,
   "id": "bd81b7b1",
   "metadata": {},
   "outputs": [],
   "source": []
  }
 ],
 "metadata": {
  "kernelspec": {
   "display_name": "Python 3 (ipykernel)",
   "language": "python",
   "name": "python3"
  },
  "language_info": {
   "codemirror_mode": {
    "name": "ipython",
    "version": 3
   },
   "file_extension": ".py",
   "mimetype": "text/x-python",
   "name": "python",
   "nbconvert_exporter": "python",
   "pygments_lexer": "ipython3",
   "version": "3.10.9"
  }
 },
 "nbformat": 4,
 "nbformat_minor": 5
}
